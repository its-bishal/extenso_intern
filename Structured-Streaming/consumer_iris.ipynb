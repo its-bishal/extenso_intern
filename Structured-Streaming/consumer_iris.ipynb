{
 "cells": [
  {
   "cell_type": "code",
   "execution_count": null,
   "metadata": {},
   "outputs": [],
   "source": []
  },
  {
   "cell_type": "code",
   "execution_count": 1,
   "metadata": {},
   "outputs": [
    {
     "data": {
      "text/plain": [
       "False"
      ]
     },
     "execution_count": 1,
     "metadata": {},
     "output_type": "execute_result"
    }
   ],
   "source": [
    "from pyspark.sql import SparkSession\n",
    "from pyspark.sql.functions import *\n",
    "from pyspark.ml.feature import Normalizer, StandardScaler\n",
    "import random\n",
    "\n",
    "import time\n",
    "\n",
    "kafka_topic_name = \"Topic\"\n",
    "kafka_bootstrap_servers = 'localhost:9092'\n",
    "\n",
    "# spark = SparkSession \\\n",
    "#         .builder \\\n",
    "#         .appName(\"Structured Streaming \") \\\n",
    "#         .master(\"local[*]\") \\\n",
    "#         .getOrCreate()\n",
    "spark = SparkSession \\\n",
    "        .builder \\\n",
    "        .appName(\"Structured Streaming \") \\\n",
    "        .master(\"local[*]\") \\\n",
    "        .config(\"spark.jars.packages\", \"org.apache.spark:spark-sql-kafka-0-10_2.12:3.5.1\") \\\n",
    "        .getOrCreate()\n",
    "\n",
    "spark.sparkContext.setLogLevel(\"ERROR\")\n",
    "\n",
    "# Construct a streaming DataFrame that reads from topic\n",
    "flower_df = spark \\\n",
    "        .readStream \\\n",
    "        .format(\"kafka\") \\\n",
    "        .option(\"kafka.bootstrap.servers\", kafka_bootstrap_servers) \\\n",
    "        .option(\"subscribe\", kafka_topic_name) \\\n",
    "        .option(\"startingOffsets\", \"earliest\") \\\n",
    "        .load()\n",
    "\n",
    "flower_df1 = flower_df.selectExpr(\"CAST(value AS STRING)\", \"timestamp\")\n",
    "\n",
    "\n",
    "flower_schema_string = \"order_id INT,sepal_length DOUBLE,sepal_length DOUBLE,sepal_length DOUBLE,sepal_length DOUBLE,species STRING\"\n",
    "\n",
    "\n",
    "\n",
    "flower_df2 = flower_df1 \\\n",
    "        .select(from_csv(col(\"value\"), flower_schema_string) \\\n",
    "                .alias(\"flower\"), \"timestamp\")\n",
    "\n",
    "\n",
    "flower_df3 = flower_df2.select(\"flower.*\", \"timestamp\")\n",
    "\n",
    "    \n",
    "flower_df3.createOrReplaceTempView(\"flower_find\");\n",
    "song_find_text = spark.sql(\"SELECT * FROM flower_find\")\n",
    "flower_agg_write_stream = song_find_text \\\n",
    "        .writeStream \\\n",
    "        .trigger(processingTime='5 seconds') \\\n",
    "        .outputMode(\"append\") \\\n",
    "        .option(\"truncate\", \"false\") \\\n",
    "        .format(\"memory\") \\\n",
    "        .queryName(\"testedTable\") \\\n",
    "        .start()\n",
    "\n",
    "flower_agg_write_stream.awaitTermination(1)\n"
   ]
  },
  {
   "cell_type": "code",
   "execution_count": 3,
   "metadata": {},
   "outputs": [
    {
     "name": "stdout",
     "output_type": "stream",
     "text": [
      "+--------+------------+------------+------------+------------+-----------+--------------------+\n",
      "|order_id|sepal_length|sepal_length|sepal_length|sepal_length|    species|           timestamp|\n",
      "+--------+------------+------------+------------+------------+-----------+--------------------+\n",
      "|       0|         5.1|         3.5|         1.4|         0.2|Iris-setosa|2024-05-13 12:18:...|\n",
      "|       1|         4.9|         3.0|         1.4|         0.2|Iris-setosa|2024-05-13 12:18:...|\n",
      "|       2|         4.7|         3.2|         1.3|         0.2|Iris-setosa|2024-05-13 12:18:...|\n",
      "|       3|         4.6|         3.1|         1.5|         0.2|Iris-setosa|2024-05-13 12:18:...|\n",
      "|       4|         5.0|         3.6|         1.4|         0.2|Iris-setosa|2024-05-13 12:18:...|\n",
      "|       5|         5.4|         3.9|         1.7|         0.4|Iris-setosa|2024-05-13 12:18:...|\n",
      "|       6|         4.6|         3.4|         1.4|         0.3|Iris-setosa|2024-05-13 12:18:...|\n",
      "|       7|         5.0|         3.4|         1.5|         0.2|Iris-setosa|2024-05-13 12:18:...|\n",
      "|       8|         4.4|         2.9|         1.4|         0.2|Iris-setosa|2024-05-13 12:18:...|\n",
      "|       9|         4.9|         3.1|         1.5|         0.1|Iris-setosa|2024-05-13 12:18:...|\n",
      "|      10|         5.4|         3.7|         1.5|         0.2|Iris-setosa|2024-05-13 12:18:...|\n",
      "|      11|         4.8|         3.4|         1.6|         0.2|Iris-setosa|2024-05-13 12:18:...|\n",
      "|      12|         4.8|         3.0|         1.4|         0.1|Iris-setosa|2024-05-13 12:18:...|\n",
      "|      13|         4.3|         3.0|         1.1|         0.1|Iris-setosa|2024-05-13 12:18:...|\n",
      "|      14|         5.8|         4.0|         1.2|         0.2|Iris-setosa|2024-05-13 12:18:...|\n",
      "|      15|         5.7|         4.4|         1.5|         0.4|Iris-setosa|2024-05-13 12:18:...|\n",
      "|      16|         5.4|         3.9|         1.3|         0.4|Iris-setosa|2024-05-13 12:18:...|\n",
      "|      17|         5.1|         3.5|         1.4|         0.3|Iris-setosa|2024-05-13 12:18:...|\n",
      "|      18|         5.7|         3.8|         1.7|         0.3|Iris-setosa|2024-05-13 12:18:...|\n",
      "|      19|         5.1|         3.8|         1.5|         0.3|Iris-setosa|2024-05-13 12:18:...|\n",
      "+--------+------------+------------+------------+------------+-----------+--------------------+\n",
      "only showing top 20 rows\n",
      "\n"
     ]
    }
   ],
   "source": [
    "df = spark.sql(\"SELECT * FROM testedTable\")\n",
    "df.show()"
   ]
  },
  {
   "cell_type": "code",
   "execution_count": 7,
   "metadata": {},
   "outputs": [
    {
     "name": "stdout",
     "output_type": "stream",
     "text": [
      "+--------+------------+------------+------------+------------+-----------+--------------------+--------------------+-------------+\n",
      "|order_id|sepal_length|sepal_length|sepal_length|sepal_length|    species|           timestamp|       SSN_encrypted|SSN_decrypted|\n",
      "+--------+------------+------------+------------+------------+-----------+--------------------+--------------------+-------------+\n",
      "|       0|         5.1|         3.5|         1.4|         0.2|Iris-setosa|2024-05-13 12:18:...|MiKAg50XuuY+/V0O0...|  Iris-setosa|\n",
      "|       1|         4.9|         3.0|         1.4|         0.2|Iris-setosa|2024-05-13 12:18:...|MiKAg50XuuY+/V0O0...|  Iris-setosa|\n",
      "|       2|         4.7|         3.2|         1.3|         0.2|Iris-setosa|2024-05-13 12:18:...|MiKAg50XuuY+/V0O0...|  Iris-setosa|\n",
      "|       3|         4.6|         3.1|         1.5|         0.2|Iris-setosa|2024-05-13 12:18:...|MiKAg50XuuY+/V0O0...|  Iris-setosa|\n",
      "|       4|         5.0|         3.6|         1.4|         0.2|Iris-setosa|2024-05-13 12:18:...|MiKAg50XuuY+/V0O0...|  Iris-setosa|\n",
      "|       5|         5.4|         3.9|         1.7|         0.4|Iris-setosa|2024-05-13 12:18:...|MiKAg50XuuY+/V0O0...|  Iris-setosa|\n",
      "|       6|         4.6|         3.4|         1.4|         0.3|Iris-setosa|2024-05-13 12:18:...|MiKAg50XuuY+/V0O0...|  Iris-setosa|\n",
      "|       7|         5.0|         3.4|         1.5|         0.2|Iris-setosa|2024-05-13 12:18:...|MiKAg50XuuY+/V0O0...|  Iris-setosa|\n",
      "|       8|         4.4|         2.9|         1.4|         0.2|Iris-setosa|2024-05-13 12:18:...|MiKAg50XuuY+/V0O0...|  Iris-setosa|\n",
      "|       9|         4.9|         3.1|         1.5|         0.1|Iris-setosa|2024-05-13 12:18:...|MiKAg50XuuY+/V0O0...|  Iris-setosa|\n",
      "|      10|         5.4|         3.7|         1.5|         0.2|Iris-setosa|2024-05-13 12:18:...|MiKAg50XuuY+/V0O0...|  Iris-setosa|\n",
      "|      11|         4.8|         3.4|         1.6|         0.2|Iris-setosa|2024-05-13 12:18:...|MiKAg50XuuY+/V0O0...|  Iris-setosa|\n",
      "|      12|         4.8|         3.0|         1.4|         0.1|Iris-setosa|2024-05-13 12:18:...|MiKAg50XuuY+/V0O0...|  Iris-setosa|\n",
      "|      13|         4.3|         3.0|         1.1|         0.1|Iris-setosa|2024-05-13 12:18:...|MiKAg50XuuY+/V0O0...|  Iris-setosa|\n",
      "|      14|         5.8|         4.0|         1.2|         0.2|Iris-setosa|2024-05-13 12:18:...|MiKAg50XuuY+/V0O0...|  Iris-setosa|\n",
      "|      15|         5.7|         4.4|         1.5|         0.4|Iris-setosa|2024-05-13 12:18:...|MiKAg50XuuY+/V0O0...|  Iris-setosa|\n",
      "|      16|         5.4|         3.9|         1.3|         0.4|Iris-setosa|2024-05-13 12:18:...|MiKAg50XuuY+/V0O0...|  Iris-setosa|\n",
      "|      17|         5.1|         3.5|         1.4|         0.3|Iris-setosa|2024-05-13 12:18:...|MiKAg50XuuY+/V0O0...|  Iris-setosa|\n",
      "|      18|         5.7|         3.8|         1.7|         0.3|Iris-setosa|2024-05-13 12:18:...|MiKAg50XuuY+/V0O0...|  Iris-setosa|\n",
      "|      19|         5.1|         3.8|         1.5|         0.3|Iris-setosa|2024-05-13 12:18:...|MiKAg50XuuY+/V0O0...|  Iris-setosa|\n",
      "+--------+------------+------------+------------+------------+-----------+--------------------+--------------------+-------------+\n",
      "only showing top 20 rows\n",
      "\n"
     ]
    }
   ],
   "source": [
    "# retriving the encrypted rows and decrypting it\n",
    "secret_key = 'Thisguyisgonnagetsomeact'\n",
    "df_encrypted = df_encrypted.withColumn('SSN_decrypted', expr(f\"aes_decrypt(unbase64(SSN_encrypted), '{secret_key}', 'ECB')\").cast('string'))\n",
    "df_encrypted.show()"
   ]
  },
  {
   "cell_type": "code",
   "execution_count": 4,
   "metadata": {},
   "outputs": [
    {
     "data": {
      "text/plain": [
       "150"
      ]
     },
     "execution_count": 4,
     "metadata": {},
     "output_type": "execute_result"
    }
   ],
   "source": [
    "df_count = df.count()\n",
    "df_count"
   ]
  },
  {
   "cell_type": "code",
   "execution_count": 5,
   "metadata": {},
   "outputs": [
    {
     "data": {
      "text/plain": [
       "150"
      ]
     },
     "execution_count": 5,
     "metadata": {},
     "output_type": "execute_result"
    }
   ],
   "source": [
    "df_count = df.count()\n",
    "df_count"
   ]
  },
  {
   "cell_type": "code",
   "execution_count": null,
   "metadata": {},
   "outputs": [],
   "source": []
  },
  {
   "cell_type": "code",
   "execution_count": null,
   "metadata": {},
   "outputs": [],
   "source": []
  },
  {
   "cell_type": "code",
   "execution_count": 7,
   "metadata": {},
   "outputs": [
    {
     "ename": "IllegalArgumentException",
     "evalue": "Cannot start query with name testedTable as a query with that name is already active in this SparkSession",
     "output_type": "error",
     "traceback": [
      "\u001b[1;31m---------------------------------------------------------------------------\u001b[0m",
      "\u001b[1;31mIllegalArgumentException\u001b[0m                  Traceback (most recent call last)",
      "Cell \u001b[1;32mIn[7], line 50\u001b[0m\n\u001b[0;32m     40\u001b[0m water_df2\u001b[38;5;241m.\u001b[39mcreateOrReplaceTempView(\u001b[38;5;124m\"\u001b[39m\u001b[38;5;124mWater_find\u001b[39m\u001b[38;5;124m\"\u001b[39m);\n\u001b[0;32m     42\u001b[0m song_find_text \u001b[38;5;241m=\u001b[39m spark\u001b[38;5;241m.\u001b[39msql(\u001b[38;5;124m\"\u001b[39m\u001b[38;5;124mSELECT * FROM Water_find\u001b[39m\u001b[38;5;124m\"\u001b[39m)\n\u001b[0;32m     43\u001b[0m Water_agg_write_stream \u001b[38;5;241m=\u001b[39m \u001b[43msong_find_text\u001b[49m\u001b[43m \u001b[49m\u001b[43m\\\u001b[49m\n\u001b[0;32m     44\u001b[0m \u001b[43m        \u001b[49m\u001b[38;5;241;43m.\u001b[39;49m\u001b[43mwriteStream\u001b[49m\u001b[43m \u001b[49m\u001b[43m\\\u001b[49m\n\u001b[0;32m     45\u001b[0m \u001b[43m        \u001b[49m\u001b[38;5;241;43m.\u001b[39;49m\u001b[43mtrigger\u001b[49m\u001b[43m(\u001b[49m\u001b[43mprocessingTime\u001b[49m\u001b[38;5;241;43m=\u001b[39;49m\u001b[38;5;124;43m'\u001b[39;49m\u001b[38;5;124;43m5 seconds\u001b[39;49m\u001b[38;5;124;43m'\u001b[39;49m\u001b[43m)\u001b[49m\u001b[43m \u001b[49m\u001b[43m\\\u001b[49m\n\u001b[0;32m     46\u001b[0m \u001b[43m        \u001b[49m\u001b[38;5;241;43m.\u001b[39;49m\u001b[43moutputMode\u001b[49m\u001b[43m(\u001b[49m\u001b[38;5;124;43m\"\u001b[39;49m\u001b[38;5;124;43mappend\u001b[39;49m\u001b[38;5;124;43m\"\u001b[39;49m\u001b[43m)\u001b[49m\u001b[43m \u001b[49m\u001b[43m\\\u001b[49m\n\u001b[0;32m     47\u001b[0m \u001b[43m        \u001b[49m\u001b[38;5;241;43m.\u001b[39;49m\u001b[43moption\u001b[49m\u001b[43m(\u001b[49m\u001b[38;5;124;43m\"\u001b[39;49m\u001b[38;5;124;43mtruncate\u001b[39;49m\u001b[38;5;124;43m\"\u001b[39;49m\u001b[43m,\u001b[49m\u001b[43m \u001b[49m\u001b[38;5;124;43m\"\u001b[39;49m\u001b[38;5;124;43mfalse\u001b[39;49m\u001b[38;5;124;43m\"\u001b[39;49m\u001b[43m)\u001b[49m\u001b[43m \u001b[49m\u001b[43m\\\u001b[49m\n\u001b[0;32m     48\u001b[0m \u001b[43m        \u001b[49m\u001b[38;5;241;43m.\u001b[39;49m\u001b[43mformat\u001b[49m\u001b[43m(\u001b[49m\u001b[38;5;124;43m\"\u001b[39;49m\u001b[38;5;124;43mmemory\u001b[39;49m\u001b[38;5;124;43m\"\u001b[39;49m\u001b[43m)\u001b[49m\u001b[43m \u001b[49m\u001b[43m\\\u001b[49m\n\u001b[0;32m     49\u001b[0m \u001b[43m        \u001b[49m\u001b[38;5;241;43m.\u001b[39;49m\u001b[43mqueryName\u001b[49m\u001b[43m(\u001b[49m\u001b[38;5;124;43m\"\u001b[39;49m\u001b[38;5;124;43mtestedTable\u001b[39;49m\u001b[38;5;124;43m\"\u001b[39;49m\u001b[43m)\u001b[49m\u001b[43m \u001b[49m\u001b[43m\\\u001b[49m\n\u001b[1;32m---> 50\u001b[0m \u001b[43m        \u001b[49m\u001b[38;5;241;43m.\u001b[39;49m\u001b[43mstart\u001b[49m\u001b[43m(\u001b[49m\u001b[43m)\u001b[49m\n\u001b[0;32m     52\u001b[0m Water_agg_write_stream\u001b[38;5;241m.\u001b[39mawaitTermination(\u001b[38;5;241m1\u001b[39m)\n",
      "File \u001b[1;32mC:\\Python310\\lib\\site-packages\\pyspark\\sql\\streaming\\readwriter.py:1527\u001b[0m, in \u001b[0;36mDataStreamWriter.start\u001b[1;34m(self, path, format, outputMode, partitionBy, queryName, **options)\u001b[0m\n\u001b[0;32m   1525\u001b[0m     \u001b[38;5;28mself\u001b[39m\u001b[38;5;241m.\u001b[39mqueryName(queryName)\n\u001b[0;32m   1526\u001b[0m \u001b[38;5;28;01mif\u001b[39;00m path \u001b[38;5;129;01mis\u001b[39;00m \u001b[38;5;28;01mNone\u001b[39;00m:\n\u001b[1;32m-> 1527\u001b[0m     \u001b[38;5;28;01mreturn\u001b[39;00m \u001b[38;5;28mself\u001b[39m\u001b[38;5;241m.\u001b[39m_sq(\u001b[38;5;28;43mself\u001b[39;49m\u001b[38;5;241;43m.\u001b[39;49m\u001b[43m_jwrite\u001b[49m\u001b[38;5;241;43m.\u001b[39;49m\u001b[43mstart\u001b[49m\u001b[43m(\u001b[49m\u001b[43m)\u001b[49m)\n\u001b[0;32m   1528\u001b[0m \u001b[38;5;28;01melse\u001b[39;00m:\n\u001b[0;32m   1529\u001b[0m     \u001b[38;5;28;01mreturn\u001b[39;00m \u001b[38;5;28mself\u001b[39m\u001b[38;5;241m.\u001b[39m_sq(\u001b[38;5;28mself\u001b[39m\u001b[38;5;241m.\u001b[39m_jwrite\u001b[38;5;241m.\u001b[39mstart(path))\n",
      "File \u001b[1;32mC:\\Python310\\lib\\site-packages\\py4j\\java_gateway.py:1322\u001b[0m, in \u001b[0;36mJavaMember.__call__\u001b[1;34m(self, *args)\u001b[0m\n\u001b[0;32m   1316\u001b[0m command \u001b[38;5;241m=\u001b[39m proto\u001b[38;5;241m.\u001b[39mCALL_COMMAND_NAME \u001b[38;5;241m+\u001b[39m\\\n\u001b[0;32m   1317\u001b[0m     \u001b[38;5;28mself\u001b[39m\u001b[38;5;241m.\u001b[39mcommand_header \u001b[38;5;241m+\u001b[39m\\\n\u001b[0;32m   1318\u001b[0m     args_command \u001b[38;5;241m+\u001b[39m\\\n\u001b[0;32m   1319\u001b[0m     proto\u001b[38;5;241m.\u001b[39mEND_COMMAND_PART\n\u001b[0;32m   1321\u001b[0m answer \u001b[38;5;241m=\u001b[39m \u001b[38;5;28mself\u001b[39m\u001b[38;5;241m.\u001b[39mgateway_client\u001b[38;5;241m.\u001b[39msend_command(command)\n\u001b[1;32m-> 1322\u001b[0m return_value \u001b[38;5;241m=\u001b[39m \u001b[43mget_return_value\u001b[49m\u001b[43m(\u001b[49m\n\u001b[0;32m   1323\u001b[0m \u001b[43m    \u001b[49m\u001b[43manswer\u001b[49m\u001b[43m,\u001b[49m\u001b[43m \u001b[49m\u001b[38;5;28;43mself\u001b[39;49m\u001b[38;5;241;43m.\u001b[39;49m\u001b[43mgateway_client\u001b[49m\u001b[43m,\u001b[49m\u001b[43m \u001b[49m\u001b[38;5;28;43mself\u001b[39;49m\u001b[38;5;241;43m.\u001b[39;49m\u001b[43mtarget_id\u001b[49m\u001b[43m,\u001b[49m\u001b[43m \u001b[49m\u001b[38;5;28;43mself\u001b[39;49m\u001b[38;5;241;43m.\u001b[39;49m\u001b[43mname\u001b[49m\u001b[43m)\u001b[49m\n\u001b[0;32m   1325\u001b[0m \u001b[38;5;28;01mfor\u001b[39;00m temp_arg \u001b[38;5;129;01min\u001b[39;00m temp_args:\n\u001b[0;32m   1326\u001b[0m     \u001b[38;5;28;01mif\u001b[39;00m \u001b[38;5;28mhasattr\u001b[39m(temp_arg, \u001b[38;5;124m\"\u001b[39m\u001b[38;5;124m_detach\u001b[39m\u001b[38;5;124m\"\u001b[39m):\n",
      "File \u001b[1;32mC:\\Python310\\lib\\site-packages\\pyspark\\errors\\exceptions\\captured.py:185\u001b[0m, in \u001b[0;36mcapture_sql_exception.<locals>.deco\u001b[1;34m(*a, **kw)\u001b[0m\n\u001b[0;32m    181\u001b[0m converted \u001b[38;5;241m=\u001b[39m convert_exception(e\u001b[38;5;241m.\u001b[39mjava_exception)\n\u001b[0;32m    182\u001b[0m \u001b[38;5;28;01mif\u001b[39;00m \u001b[38;5;129;01mnot\u001b[39;00m \u001b[38;5;28misinstance\u001b[39m(converted, UnknownException):\n\u001b[0;32m    183\u001b[0m     \u001b[38;5;66;03m# Hide where the exception came from that shows a non-Pythonic\u001b[39;00m\n\u001b[0;32m    184\u001b[0m     \u001b[38;5;66;03m# JVM exception message.\u001b[39;00m\n\u001b[1;32m--> 185\u001b[0m     \u001b[38;5;28;01mraise\u001b[39;00m converted \u001b[38;5;28;01mfrom\u001b[39;00m \u001b[38;5;28;01mNone\u001b[39;00m\n\u001b[0;32m    186\u001b[0m \u001b[38;5;28;01melse\u001b[39;00m:\n\u001b[0;32m    187\u001b[0m     \u001b[38;5;28;01mraise\u001b[39;00m\n",
      "\u001b[1;31mIllegalArgumentException\u001b[0m: Cannot start query with name testedTable as a query with that name is already active in this SparkSession"
     ]
    }
   ],
   "source": [
    "from pyspark.sql import  SparkSession\n",
    "from pyspark.sql.functions import *\n",
    "from pyspark.ml.feature import Normalizer, StandardScaler\n",
    "import random\n",
    "import time\n",
    "\n",
    "kafka_topic_name2 = \"water_portability\"\n",
    "kafka_bootstrap_servers2 = 'localhost:9092'\n",
    "\n",
    "\n",
    "spark = SparkSession \\\n",
    "    .builder \\\n",
    "    .appName(\"Structured Streaming\") \\\n",
    "    .master(\"local[*]\") \\\n",
    "    .config(\"spark.jars.packages\", \"org.apache.spark:spark-sql-kafka-0-10_2.12:3.5.1\") \\\n",
    "    .getOrCreate()\n",
    "\n",
    "\n",
    "spark.sparkContext.setLogLevel(\"error\")\n",
    "\n",
    "# construct a straming dataframe that reads from the topic\n",
    "\n",
    "water_df = spark \\\n",
    "            .readStream \\\n",
    "            .format(\"kafka\") \\\n",
    "            .option(\"kafka.bootstrap.servers\", kafka_bootstrap_servers2) \\\n",
    "            .option(\"subscribe\", kafka_topic_name2) \\\n",
    "            .option(\"startingOffsets\", \"earliest\") \\\n",
    "            .load()\n",
    "\n",
    "water_df1 = water_df.selectExpr(\"CAST(value as STRING)\", \"timestamp\")\n",
    "\n",
    "# water_schema_string = \"ph float64, Hardness float64, Solids float64, Chloramines float64, Sulfate float64, Conductivity float64, Organic_carbon float64, Trihalomethanes float64, Turbidity float64, Potability int64\"\n",
    "water_schema_string = \"ph DOUBLE, Hardness DOUBLE, Solids DOUBLE, Chloramines DOUBLE, Sulfate DOUBLE, Conductivity DOUBLE, Organic_carbon DOUBLE, Trihalomethanes DOUBLE, Turbidity DOUBLE, Potability INT\"\n",
    "\n",
    "water_df2 = water_df1 \\\n",
    "            .select(from_csv(col(\"value\"), water_schema_string) \\\n",
    "                    .alias(\"water\"), \"timestamp\")\n",
    "\n",
    "water_df2.createOrReplaceTempView(\"Water_find\");\n",
    "\n",
    "song_find_text = spark.sql(\"SELECT * FROM Water_find\")\n",
    "Water_agg_write_stream = song_find_text \\\n",
    "        .writeStream \\\n",
    "        .trigger(processingTime='5 seconds') \\\n",
    "        .outputMode(\"append\") \\\n",
    "        .option(\"truncate\", \"false\") \\\n",
    "        .format(\"memory\") \\\n",
    "        .queryName(\"ChTable\") \\\n",
    "        .start()\n",
    "\n",
    "Water_agg_write_stream.awaitTermination(1)"
   ]
  },
  {
   "cell_type": "code",
   "execution_count": null,
   "metadata": {},
   "outputs": [],
   "source": []
  }
 ],
 "metadata": {
  "kernelspec": {
   "display_name": "Python 3 (ipykernel)",
   "language": "python",
   "name": "python3"
  },
  "language_info": {
   "codemirror_mode": {
    "name": "ipython",
    "version": 3
   },
   "file_extension": ".py",
   "mimetype": "text/x-python",
   "name": "python",
   "nbconvert_exporter": "python",
   "pygments_lexer": "ipython3",
   "version": "3.10.6"
  }
 },
 "nbformat": 4,
 "nbformat_minor": 4
}
