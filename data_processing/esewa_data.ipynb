{
 "cells": [
  {
   "cell_type": "code",
   "execution_count": 1,
   "id": "4f0437a0",
   "metadata": {},
   "outputs": [],
   "source": [
    "import numpy as np\n",
    "import pandas as pd\n",
    "import matplotlib.pyplot as plt\n",
    "%matplotlib inline\n",
    "\n",
    "from datetime import datetime"
   ]
  },
  {
   "cell_type": "code",
   "execution_count": 2,
   "id": "1ae865b6",
   "metadata": {},
   "outputs": [],
   "source": [
    "df = pd.read_csv('data/esewa_airlines.csv', index_col=False)"
   ]
  },
  {
   "cell_type": "code",
   "execution_count": 4,
   "id": "7aaaf5bc",
   "metadata": {},
   "outputs": [],
   "source": [
    "df.rename(columns={'last_modified_date': 'date'}, inplace=True)\n",
    "data = df\n",
    "time_series=df"
   ]
  },
  {
   "cell_type": "code",
   "execution_count": 6,
   "id": "5d53583c",
   "metadata": {},
   "outputs": [],
   "source": [
    "data['date'] = pd.to_datetime(data['date'])"
   ]
  },
  {
   "cell_type": "code",
   "execution_count": null,
   "id": "3bf90c84",
   "metadata": {},
   "outputs": [],
   "source": []
  },
  {
   "cell_type": "code",
   "execution_count": 7,
   "id": "910642e5",
   "metadata": {},
   "outputs": [],
   "source": [
    "data.drop(columns=['Unnamed: 0'], inplace=True)"
   ]
  },
  {
   "cell_type": "code",
   "execution_count": 8,
   "id": "6913778b",
   "metadata": {},
   "outputs": [
    {
     "data": {
      "text/plain": [
       "Index(['account_id', 'date', 'travelled_flight_name', 'total_amount'], dtype='object')"
      ]
     },
     "execution_count": 8,
     "metadata": {},
     "output_type": "execute_result"
    }
   ],
   "source": [
    "data.columns"
   ]
  },
  {
   "cell_type": "code",
   "execution_count": 9,
   "id": "af5e4fdf",
   "metadata": {},
   "outputs": [
    {
     "data": {
      "text/html": [
       "<div>\n",
       "<style scoped>\n",
       "    .dataframe tbody tr th:only-of-type {\n",
       "        vertical-align: middle;\n",
       "    }\n",
       "\n",
       "    .dataframe tbody tr th {\n",
       "        vertical-align: top;\n",
       "    }\n",
       "\n",
       "    .dataframe thead th {\n",
       "        text-align: right;\n",
       "    }\n",
       "</style>\n",
       "<table border=\"1\" class=\"dataframe\">\n",
       "  <thead>\n",
       "    <tr style=\"text-align: right;\">\n",
       "      <th></th>\n",
       "      <th>account_id</th>\n",
       "      <th>date</th>\n",
       "      <th>travelled_flight_name</th>\n",
       "      <th>total_amount</th>\n",
       "    </tr>\n",
       "  </thead>\n",
       "  <tbody>\n",
       "    <tr>\n",
       "      <th>0</th>\n",
       "      <td>1.559470e+19</td>\n",
       "      <td>2023-10-11</td>\n",
       "      <td>BUDDHA AIR</td>\n",
       "      <td>6400.0</td>\n",
       "    </tr>\n",
       "    <tr>\n",
       "      <th>1</th>\n",
       "      <td>2.693080e+18</td>\n",
       "      <td>2023-10-11</td>\n",
       "      <td>BUDDHA AIR</td>\n",
       "      <td>5200.0</td>\n",
       "    </tr>\n",
       "    <tr>\n",
       "      <th>2</th>\n",
       "      <td>7.494540e+18</td>\n",
       "      <td>2023-10-11</td>\n",
       "      <td>SHREE AIRLINES</td>\n",
       "      <td>8800.0</td>\n",
       "    </tr>\n",
       "    <tr>\n",
       "      <th>3</th>\n",
       "      <td>1.493320e+19</td>\n",
       "      <td>2023-10-11</td>\n",
       "      <td>BUDDHA AIR</td>\n",
       "      <td>9001.0</td>\n",
       "    </tr>\n",
       "    <tr>\n",
       "      <th>4</th>\n",
       "      <td>1.682070e+19</td>\n",
       "      <td>2023-10-11</td>\n",
       "      <td>YETI AIRLINES</td>\n",
       "      <td>23200.0</td>\n",
       "    </tr>\n",
       "  </tbody>\n",
       "</table>\n",
       "</div>"
      ],
      "text/plain": [
       "     account_id       date travelled_flight_name  total_amount\n",
       "0  1.559470e+19 2023-10-11            BUDDHA AIR        6400.0\n",
       "1  2.693080e+18 2023-10-11            BUDDHA AIR        5200.0\n",
       "2  7.494540e+18 2023-10-11        SHREE AIRLINES        8800.0\n",
       "3  1.493320e+19 2023-10-11            BUDDHA AIR        9001.0\n",
       "4  1.682070e+19 2023-10-11         YETI AIRLINES       23200.0"
      ]
     },
     "execution_count": 9,
     "metadata": {},
     "output_type": "execute_result"
    }
   ],
   "source": [
    "data.head()"
   ]
  },
  {
   "cell_type": "code",
   "execution_count": 10,
   "id": "4c0b8327",
   "metadata": {},
   "outputs": [
    {
     "data": {
      "text/html": [
       "<div>\n",
       "<style scoped>\n",
       "    .dataframe tbody tr th:only-of-type {\n",
       "        vertical-align: middle;\n",
       "    }\n",
       "\n",
       "    .dataframe tbody tr th {\n",
       "        vertical-align: top;\n",
       "    }\n",
       "\n",
       "    .dataframe thead th {\n",
       "        text-align: right;\n",
       "    }\n",
       "</style>\n",
       "<table border=\"1\" class=\"dataframe\">\n",
       "  <thead>\n",
       "    <tr style=\"text-align: right;\">\n",
       "      <th></th>\n",
       "      <th>account_id</th>\n",
       "      <th>date</th>\n",
       "      <th>total_amount</th>\n",
       "    </tr>\n",
       "  </thead>\n",
       "  <tbody>\n",
       "    <tr>\n",
       "      <th>count</th>\n",
       "      <td>1.048575e+06</td>\n",
       "      <td>1048575</td>\n",
       "      <td>1.048575e+06</td>\n",
       "    </tr>\n",
       "    <tr>\n",
       "      <th>mean</th>\n",
       "      <td>9.211738e+18</td>\n",
       "      <td>2023-09-10 09:46:01.502039296</td>\n",
       "      <td>7.351625e+03</td>\n",
       "    </tr>\n",
       "    <tr>\n",
       "      <th>min</th>\n",
       "      <td>6.630750e+12</td>\n",
       "      <td>2023-01-01 00:00:00</td>\n",
       "      <td>4.000000e+02</td>\n",
       "    </tr>\n",
       "    <tr>\n",
       "      <th>25%</th>\n",
       "      <td>4.560970e+18</td>\n",
       "      <td>2023-05-15 00:00:00</td>\n",
       "      <td>4.600000e+03</td>\n",
       "    </tr>\n",
       "    <tr>\n",
       "      <th>50%</th>\n",
       "      <td>9.221060e+18</td>\n",
       "      <td>2023-09-07 00:00:00</td>\n",
       "      <td>5.900000e+03</td>\n",
       "    </tr>\n",
       "    <tr>\n",
       "      <th>75%</th>\n",
       "      <td>1.383160e+19</td>\n",
       "      <td>2023-12-28 00:00:00</td>\n",
       "      <td>8.340000e+03</td>\n",
       "    </tr>\n",
       "    <tr>\n",
       "      <th>max</th>\n",
       "      <td>1.844670e+19</td>\n",
       "      <td>2024-05-06 00:00:00</td>\n",
       "      <td>1.109600e+05</td>\n",
       "    </tr>\n",
       "    <tr>\n",
       "      <th>std</th>\n",
       "      <td>5.330520e+18</td>\n",
       "      <td>NaN</td>\n",
       "      <td>4.350226e+03</td>\n",
       "    </tr>\n",
       "  </tbody>\n",
       "</table>\n",
       "</div>"
      ],
      "text/plain": [
       "         account_id                           date  total_amount\n",
       "count  1.048575e+06                        1048575  1.048575e+06\n",
       "mean   9.211738e+18  2023-09-10 09:46:01.502039296  7.351625e+03\n",
       "min    6.630750e+12            2023-01-01 00:00:00  4.000000e+02\n",
       "25%    4.560970e+18            2023-05-15 00:00:00  4.600000e+03\n",
       "50%    9.221060e+18            2023-09-07 00:00:00  5.900000e+03\n",
       "75%    1.383160e+19            2023-12-28 00:00:00  8.340000e+03\n",
       "max    1.844670e+19            2024-05-06 00:00:00  1.109600e+05\n",
       "std    5.330520e+18                            NaN  4.350226e+03"
      ]
     },
     "execution_count": 10,
     "metadata": {},
     "output_type": "execute_result"
    }
   ],
   "source": [
    "data.describe()"
   ]
  },
  {
   "cell_type": "code",
   "execution_count": 11,
   "id": "0839bee2",
   "metadata": {},
   "outputs": [
    {
     "data": {
      "text/plain": [
       "account_id               1048575\n",
       "date                     1048575\n",
       "travelled_flight_name    1048575\n",
       "total_amount             1048575\n",
       "dtype: int64"
      ]
     },
     "execution_count": 11,
     "metadata": {},
     "output_type": "execute_result"
    }
   ],
   "source": [
    "data.count()"
   ]
  },
  {
   "cell_type": "code",
   "execution_count": 12,
   "id": "0a036fbf",
   "metadata": {},
   "outputs": [
    {
     "name": "stdout",
     "output_type": "stream",
     "text": [
      "<class 'pandas.core.frame.DataFrame'>\n",
      "RangeIndex: 1048575 entries, 0 to 1048574\n",
      "Data columns (total 4 columns):\n",
      " #   Column                 Non-Null Count    Dtype         \n",
      "---  ------                 --------------    -----         \n",
      " 0   account_id             1048575 non-null  float64       \n",
      " 1   date                   1048575 non-null  datetime64[ns]\n",
      " 2   travelled_flight_name  1048575 non-null  object        \n",
      " 3   total_amount           1048575 non-null  float64       \n",
      "dtypes: datetime64[ns](1), float64(2), object(1)\n",
      "memory usage: 32.0+ MB\n"
     ]
    }
   ],
   "source": [
    "data.info()"
   ]
  },
  {
   "cell_type": "code",
   "execution_count": 13,
   "id": "bb400e49",
   "metadata": {},
   "outputs": [
    {
     "data": {
      "text/plain": [
       "account_id               1048575\n",
       "date                     1048575\n",
       "travelled_flight_name    1048575\n",
       "total_amount             1048575\n",
       "dtype: int64"
      ]
     },
     "execution_count": 13,
     "metadata": {},
     "output_type": "execute_result"
    }
   ],
   "source": [
    "data.count()"
   ]
  },
  {
   "cell_type": "code",
   "execution_count": 14,
   "id": "24288ee3",
   "metadata": {},
   "outputs": [
    {
     "data": {
      "text/plain": [
       "account_id               211509\n",
       "date                        479\n",
       "travelled_flight_name         9\n",
       "total_amount               4690\n",
       "dtype: int64"
      ]
     },
     "execution_count": 14,
     "metadata": {},
     "output_type": "execute_result"
    }
   ],
   "source": [
    "data.nunique()"
   ]
  },
  {
   "cell_type": "code",
   "execution_count": 15,
   "id": "2884763b",
   "metadata": {},
   "outputs": [
    {
     "data": {
      "text/plain": [
       "account_id\n",
       "5.723650e+17    1595\n",
       "4.256250e+18     918\n",
       "8.214720e+18     906\n",
       "9.428670e+18     895\n",
       "1.447140e+19     753\n",
       "                ... \n",
       "8.501080e+18       1\n",
       "8.609990e+18       1\n",
       "5.872820e+18       1\n",
       "5.381240e+18       1\n",
       "1.340140e+19       1\n",
       "Name: count, Length: 211509, dtype: int64"
      ]
     },
     "execution_count": 15,
     "metadata": {},
     "output_type": "execute_result"
    }
   ],
   "source": [
    "data.account_id.value_counts()"
   ]
  },
  {
   "cell_type": "markdown",
   "id": "1d9903e2",
   "metadata": {},
   "source": [
    "## calculate recency"
   ]
  },
  {
   "cell_type": "code",
   "execution_count": 16,
   "id": "2b28b815",
   "metadata": {},
   "outputs": [
    {
     "name": "stdout",
     "output_type": "stream",
     "text": [
      "<class 'pandas.core.series.Series'>\n",
      "RangeIndex: 1048575 entries, 0 to 1048574\n",
      "Series name: date\n",
      "Non-Null Count    Dtype         \n",
      "--------------    -----         \n",
      "1048575 non-null  datetime64[ns]\n",
      "dtypes: datetime64[ns](1)\n",
      "memory usage: 8.0 MB\n"
     ]
    }
   ],
   "source": [
    "data.date.info()"
   ]
  },
  {
   "cell_type": "code",
   "execution_count": 17,
   "id": "e63b443e",
   "metadata": {},
   "outputs": [],
   "source": [
    "data['recency'] = (datetime.now().date() - data['date'].dt.date)"
   ]
  },
  {
   "cell_type": "markdown",
   "id": "0014552d",
   "metadata": {},
   "source": [
    "## calculating frequency"
   ]
  },
  {
   "cell_type": "code",
   "execution_count": 18,
   "id": "07107524",
   "metadata": {},
   "outputs": [
    {
     "data": {
      "text/html": [
       "<div>\n",
       "<style scoped>\n",
       "    .dataframe tbody tr th:only-of-type {\n",
       "        vertical-align: middle;\n",
       "    }\n",
       "\n",
       "    .dataframe tbody tr th {\n",
       "        vertical-align: top;\n",
       "    }\n",
       "\n",
       "    .dataframe thead th {\n",
       "        text-align: right;\n",
       "    }\n",
       "</style>\n",
       "<table border=\"1\" class=\"dataframe\">\n",
       "  <thead>\n",
       "    <tr style=\"text-align: right;\">\n",
       "      <th></th>\n",
       "      <th>account_id</th>\n",
       "      <th>date</th>\n",
       "      <th>travelled_flight_name</th>\n",
       "      <th>total_amount</th>\n",
       "      <th>recency</th>\n",
       "      <th>frequency</th>\n",
       "    </tr>\n",
       "  </thead>\n",
       "  <tbody>\n",
       "    <tr>\n",
       "      <th>0</th>\n",
       "      <td>1.559470e+19</td>\n",
       "      <td>2023-10-11</td>\n",
       "      <td>BUDDHA AIR</td>\n",
       "      <td>6400.0</td>\n",
       "      <td>211 days, 0:00:00</td>\n",
       "      <td>43</td>\n",
       "    </tr>\n",
       "    <tr>\n",
       "      <th>1</th>\n",
       "      <td>2.693080e+18</td>\n",
       "      <td>2023-10-11</td>\n",
       "      <td>BUDDHA AIR</td>\n",
       "      <td>5200.0</td>\n",
       "      <td>211 days, 0:00:00</td>\n",
       "      <td>11</td>\n",
       "    </tr>\n",
       "    <tr>\n",
       "      <th>2</th>\n",
       "      <td>7.494540e+18</td>\n",
       "      <td>2023-10-11</td>\n",
       "      <td>SHREE AIRLINES</td>\n",
       "      <td>8800.0</td>\n",
       "      <td>211 days, 0:00:00</td>\n",
       "      <td>3</td>\n",
       "    </tr>\n",
       "    <tr>\n",
       "      <th>3</th>\n",
       "      <td>1.493320e+19</td>\n",
       "      <td>2023-10-11</td>\n",
       "      <td>BUDDHA AIR</td>\n",
       "      <td>9001.0</td>\n",
       "      <td>211 days, 0:00:00</td>\n",
       "      <td>27</td>\n",
       "    </tr>\n",
       "    <tr>\n",
       "      <th>4</th>\n",
       "      <td>1.682070e+19</td>\n",
       "      <td>2023-10-11</td>\n",
       "      <td>YETI AIRLINES</td>\n",
       "      <td>23200.0</td>\n",
       "      <td>211 days, 0:00:00</td>\n",
       "      <td>17</td>\n",
       "    </tr>\n",
       "    <tr>\n",
       "      <th>...</th>\n",
       "      <td>...</td>\n",
       "      <td>...</td>\n",
       "      <td>...</td>\n",
       "      <td>...</td>\n",
       "      <td>...</td>\n",
       "      <td>...</td>\n",
       "    </tr>\n",
       "    <tr>\n",
       "      <th>1048570</th>\n",
       "      <td>6.846850e+18</td>\n",
       "      <td>2023-08-07</td>\n",
       "      <td>BUDDHA AIR</td>\n",
       "      <td>5000.0</td>\n",
       "      <td>276 days, 0:00:00</td>\n",
       "      <td>1</td>\n",
       "    </tr>\n",
       "    <tr>\n",
       "      <th>1048571</th>\n",
       "      <td>1.029540e+19</td>\n",
       "      <td>2023-08-07</td>\n",
       "      <td>BUDDHA AIR</td>\n",
       "      <td>5000.0</td>\n",
       "      <td>276 days, 0:00:00</td>\n",
       "      <td>7</td>\n",
       "    </tr>\n",
       "    <tr>\n",
       "      <th>1048572</th>\n",
       "      <td>1.340140e+19</td>\n",
       "      <td>2023-08-07</td>\n",
       "      <td>BUDDHA AIR</td>\n",
       "      <td>4200.0</td>\n",
       "      <td>276 days, 0:00:00</td>\n",
       "      <td>1</td>\n",
       "    </tr>\n",
       "    <tr>\n",
       "      <th>1048573</th>\n",
       "      <td>6.879000e+18</td>\n",
       "      <td>2023-08-07</td>\n",
       "      <td>YETI AIRLINES</td>\n",
       "      <td>9200.0</td>\n",
       "      <td>276 days, 0:00:00</td>\n",
       "      <td>4</td>\n",
       "    </tr>\n",
       "    <tr>\n",
       "      <th>1048574</th>\n",
       "      <td>5.258090e+18</td>\n",
       "      <td>2023-08-07</td>\n",
       "      <td>BUDDHA AIR</td>\n",
       "      <td>5000.0</td>\n",
       "      <td>276 days, 0:00:00</td>\n",
       "      <td>6</td>\n",
       "    </tr>\n",
       "  </tbody>\n",
       "</table>\n",
       "<p>1048575 rows × 6 columns</p>\n",
       "</div>"
      ],
      "text/plain": [
       "           account_id       date travelled_flight_name  total_amount  \\\n",
       "0        1.559470e+19 2023-10-11            BUDDHA AIR        6400.0   \n",
       "1        2.693080e+18 2023-10-11            BUDDHA AIR        5200.0   \n",
       "2        7.494540e+18 2023-10-11        SHREE AIRLINES        8800.0   \n",
       "3        1.493320e+19 2023-10-11            BUDDHA AIR        9001.0   \n",
       "4        1.682070e+19 2023-10-11         YETI AIRLINES       23200.0   \n",
       "...               ...        ...                   ...           ...   \n",
       "1048570  6.846850e+18 2023-08-07            BUDDHA AIR        5000.0   \n",
       "1048571  1.029540e+19 2023-08-07            BUDDHA AIR        5000.0   \n",
       "1048572  1.340140e+19 2023-08-07            BUDDHA AIR        4200.0   \n",
       "1048573  6.879000e+18 2023-08-07         YETI AIRLINES        9200.0   \n",
       "1048574  5.258090e+18 2023-08-07            BUDDHA AIR        5000.0   \n",
       "\n",
       "                   recency  frequency  \n",
       "0        211 days, 0:00:00         43  \n",
       "1        211 days, 0:00:00         11  \n",
       "2        211 days, 0:00:00          3  \n",
       "3        211 days, 0:00:00         27  \n",
       "4        211 days, 0:00:00         17  \n",
       "...                    ...        ...  \n",
       "1048570  276 days, 0:00:00          1  \n",
       "1048571  276 days, 0:00:00          7  \n",
       "1048572  276 days, 0:00:00          1  \n",
       "1048573  276 days, 0:00:00          4  \n",
       "1048574  276 days, 0:00:00          6  \n",
       "\n",
       "[1048575 rows x 6 columns]"
      ]
     },
     "execution_count": 18,
     "metadata": {},
     "output_type": "execute_result"
    }
   ],
   "source": [
    "frequency = data.groupby('account_id')['date'].count().reset_index()\n",
    "frequency.rename(columns={'date':'frequency'}, inplace=True)\n",
    "data = data.merge(frequency, on='account_id', how='left')\n",
    "data"
   ]
  },
  {
   "cell_type": "markdown",
   "id": "a723c63d",
   "metadata": {},
   "source": [
    "## calculating monetary value"
   ]
  },
  {
   "cell_type": "code",
   "execution_count": 19,
   "id": "fb4800de",
   "metadata": {},
   "outputs": [
    {
     "data": {
      "text/html": [
       "<div>\n",
       "<style scoped>\n",
       "    .dataframe tbody tr th:only-of-type {\n",
       "        vertical-align: middle;\n",
       "    }\n",
       "\n",
       "    .dataframe tbody tr th {\n",
       "        vertical-align: top;\n",
       "    }\n",
       "\n",
       "    .dataframe thead th {\n",
       "        text-align: right;\n",
       "    }\n",
       "</style>\n",
       "<table border=\"1\" class=\"dataframe\">\n",
       "  <thead>\n",
       "    <tr style=\"text-align: right;\">\n",
       "      <th></th>\n",
       "      <th>account_id</th>\n",
       "      <th>date</th>\n",
       "      <th>travelled_flight_name</th>\n",
       "      <th>total_amount</th>\n",
       "      <th>recency</th>\n",
       "      <th>frequency</th>\n",
       "      <th>monetary_value</th>\n",
       "    </tr>\n",
       "  </thead>\n",
       "  <tbody>\n",
       "    <tr>\n",
       "      <th>0</th>\n",
       "      <td>1.559470e+19</td>\n",
       "      <td>2023-10-11</td>\n",
       "      <td>BUDDHA AIR</td>\n",
       "      <td>6400.0</td>\n",
       "      <td>211 days, 0:00:00</td>\n",
       "      <td>43</td>\n",
       "      <td>336363.00</td>\n",
       "    </tr>\n",
       "    <tr>\n",
       "      <th>1</th>\n",
       "      <td>2.693080e+18</td>\n",
       "      <td>2023-10-11</td>\n",
       "      <td>BUDDHA AIR</td>\n",
       "      <td>5200.0</td>\n",
       "      <td>211 days, 0:00:00</td>\n",
       "      <td>11</td>\n",
       "      <td>71998.46</td>\n",
       "    </tr>\n",
       "    <tr>\n",
       "      <th>2</th>\n",
       "      <td>7.494540e+18</td>\n",
       "      <td>2023-10-11</td>\n",
       "      <td>SHREE AIRLINES</td>\n",
       "      <td>8800.0</td>\n",
       "      <td>211 days, 0:00:00</td>\n",
       "      <td>3</td>\n",
       "      <td>41900.00</td>\n",
       "    </tr>\n",
       "    <tr>\n",
       "      <th>3</th>\n",
       "      <td>1.493320e+19</td>\n",
       "      <td>2023-10-11</td>\n",
       "      <td>BUDDHA AIR</td>\n",
       "      <td>9001.0</td>\n",
       "      <td>211 days, 0:00:00</td>\n",
       "      <td>27</td>\n",
       "      <td>189483.00</td>\n",
       "    </tr>\n",
       "    <tr>\n",
       "      <th>4</th>\n",
       "      <td>1.682070e+19</td>\n",
       "      <td>2023-10-11</td>\n",
       "      <td>YETI AIRLINES</td>\n",
       "      <td>23200.0</td>\n",
       "      <td>211 days, 0:00:00</td>\n",
       "      <td>17</td>\n",
       "      <td>146382.31</td>\n",
       "    </tr>\n",
       "    <tr>\n",
       "      <th>...</th>\n",
       "      <td>...</td>\n",
       "      <td>...</td>\n",
       "      <td>...</td>\n",
       "      <td>...</td>\n",
       "      <td>...</td>\n",
       "      <td>...</td>\n",
       "      <td>...</td>\n",
       "    </tr>\n",
       "    <tr>\n",
       "      <th>1048570</th>\n",
       "      <td>6.846850e+18</td>\n",
       "      <td>2023-08-07</td>\n",
       "      <td>BUDDHA AIR</td>\n",
       "      <td>5000.0</td>\n",
       "      <td>276 days, 0:00:00</td>\n",
       "      <td>1</td>\n",
       "      <td>5000.00</td>\n",
       "    </tr>\n",
       "    <tr>\n",
       "      <th>1048571</th>\n",
       "      <td>1.029540e+19</td>\n",
       "      <td>2023-08-07</td>\n",
       "      <td>BUDDHA AIR</td>\n",
       "      <td>5000.0</td>\n",
       "      <td>276 days, 0:00:00</td>\n",
       "      <td>7</td>\n",
       "      <td>39547.00</td>\n",
       "    </tr>\n",
       "    <tr>\n",
       "      <th>1048572</th>\n",
       "      <td>1.340140e+19</td>\n",
       "      <td>2023-08-07</td>\n",
       "      <td>BUDDHA AIR</td>\n",
       "      <td>4200.0</td>\n",
       "      <td>276 days, 0:00:00</td>\n",
       "      <td>1</td>\n",
       "      <td>4200.00</td>\n",
       "    </tr>\n",
       "    <tr>\n",
       "      <th>1048573</th>\n",
       "      <td>6.879000e+18</td>\n",
       "      <td>2023-08-07</td>\n",
       "      <td>YETI AIRLINES</td>\n",
       "      <td>9200.0</td>\n",
       "      <td>276 days, 0:00:00</td>\n",
       "      <td>4</td>\n",
       "      <td>34199.98</td>\n",
       "    </tr>\n",
       "    <tr>\n",
       "      <th>1048574</th>\n",
       "      <td>5.258090e+18</td>\n",
       "      <td>2023-08-07</td>\n",
       "      <td>BUDDHA AIR</td>\n",
       "      <td>5000.0</td>\n",
       "      <td>276 days, 0:00:00</td>\n",
       "      <td>6</td>\n",
       "      <td>37400.00</td>\n",
       "    </tr>\n",
       "  </tbody>\n",
       "</table>\n",
       "<p>1048575 rows × 7 columns</p>\n",
       "</div>"
      ],
      "text/plain": [
       "           account_id       date travelled_flight_name  total_amount  \\\n",
       "0        1.559470e+19 2023-10-11            BUDDHA AIR        6400.0   \n",
       "1        2.693080e+18 2023-10-11            BUDDHA AIR        5200.0   \n",
       "2        7.494540e+18 2023-10-11        SHREE AIRLINES        8800.0   \n",
       "3        1.493320e+19 2023-10-11            BUDDHA AIR        9001.0   \n",
       "4        1.682070e+19 2023-10-11         YETI AIRLINES       23200.0   \n",
       "...               ...        ...                   ...           ...   \n",
       "1048570  6.846850e+18 2023-08-07            BUDDHA AIR        5000.0   \n",
       "1048571  1.029540e+19 2023-08-07            BUDDHA AIR        5000.0   \n",
       "1048572  1.340140e+19 2023-08-07            BUDDHA AIR        4200.0   \n",
       "1048573  6.879000e+18 2023-08-07         YETI AIRLINES        9200.0   \n",
       "1048574  5.258090e+18 2023-08-07            BUDDHA AIR        5000.0   \n",
       "\n",
       "                   recency  frequency  monetary_value  \n",
       "0        211 days, 0:00:00         43       336363.00  \n",
       "1        211 days, 0:00:00         11        71998.46  \n",
       "2        211 days, 0:00:00          3        41900.00  \n",
       "3        211 days, 0:00:00         27       189483.00  \n",
       "4        211 days, 0:00:00         17       146382.31  \n",
       "...                    ...        ...             ...  \n",
       "1048570  276 days, 0:00:00          1         5000.00  \n",
       "1048571  276 days, 0:00:00          7        39547.00  \n",
       "1048572  276 days, 0:00:00          1         4200.00  \n",
       "1048573  276 days, 0:00:00          4        34199.98  \n",
       "1048574  276 days, 0:00:00          6        37400.00  \n",
       "\n",
       "[1048575 rows x 7 columns]"
      ]
     },
     "execution_count": 19,
     "metadata": {},
     "output_type": "execute_result"
    }
   ],
   "source": [
    "monetary_data = data.groupby('account_id')['total_amount'].sum().reset_index()\n",
    "monetary_data.rename(columns={'total_amount':'monetary_value'}, inplace=True)\n",
    "data = data.merge(monetary_data, on='account_id', how='left')\n",
    "data"
   ]
  },
  {
   "cell_type": "code",
   "execution_count": 24,
   "id": "7894e2a9",
   "metadata": {},
   "outputs": [
    {
     "data": {
      "text/plain": [
       "0         (6630749999999.999, 1.3841959999999997e+18]\n",
       "1         (6630749999999.999, 1.3841959999999997e+18]\n",
       "2         (6630749999999.999, 1.3841959999999997e+18]\n",
       "3         (6630749999999.999, 1.3841959999999997e+18]\n",
       "4         (6630749999999.999, 1.3841959999999997e+18]\n",
       "                             ...                     \n",
       "211504          (1.5762420000000002e+19, 1.84467e+19]\n",
       "211505          (1.5762420000000002e+19, 1.84467e+19]\n",
       "211506          (1.5762420000000002e+19, 1.84467e+19]\n",
       "211507          (1.5762420000000002e+19, 1.84467e+19]\n",
       "211508          (1.5762420000000002e+19, 1.84467e+19]\n",
       "Name: account_id, Length: 211509, dtype: category\n",
       "Categories (10, interval[float64, right]): [(6630749999999.999, 1.3841959999999997e+18] < (1.3841959999999997e+18, 2.8470700000000005e+18] < (2.8470700000000005e+18, 4.3279700000000005e+18] < (4.3279700000000005e+18, 5.790942e+18] ... (8.747506e+18, 1.0397859999999998e+19] < (1.0397859999999998e+19, 1.3076280000000004e+19] < (1.3076280000000004e+19, 1.5762420000000002e+19] < (1.5762420000000002e+19, 1.84467e+19]]"
      ]
     },
     "execution_count": 24,
     "metadata": {},
     "output_type": "execute_result"
    }
   ],
   "source": [
    "new_freq = pd.qcut(frequency.account_id, q=10)\n",
    "new_freq"
   ]
  },
  {
   "cell_type": "code",
   "execution_count": 22,
   "id": "865fced0",
   "metadata": {},
   "outputs": [
    {
     "data": {
      "text/html": [
       "<div>\n",
       "<style scoped>\n",
       "    .dataframe tbody tr th:only-of-type {\n",
       "        vertical-align: middle;\n",
       "    }\n",
       "\n",
       "    .dataframe tbody tr th {\n",
       "        vertical-align: top;\n",
       "    }\n",
       "\n",
       "    .dataframe thead th {\n",
       "        text-align: right;\n",
       "    }\n",
       "</style>\n",
       "<table border=\"1\" class=\"dataframe\">\n",
       "  <thead>\n",
       "    <tr style=\"text-align: right;\">\n",
       "      <th></th>\n",
       "      <th>account_id</th>\n",
       "      <th>frequency</th>\n",
       "    </tr>\n",
       "  </thead>\n",
       "  <tbody>\n",
       "    <tr>\n",
       "      <th>0</th>\n",
       "      <td>6.630750e+12</td>\n",
       "      <td>2</td>\n",
       "    </tr>\n",
       "    <tr>\n",
       "      <th>1</th>\n",
       "      <td>9.564960e+12</td>\n",
       "      <td>1</td>\n",
       "    </tr>\n",
       "    <tr>\n",
       "      <th>2</th>\n",
       "      <td>2.564860e+13</td>\n",
       "      <td>2</td>\n",
       "    </tr>\n",
       "    <tr>\n",
       "      <th>3</th>\n",
       "      <td>6.785860e+13</td>\n",
       "      <td>1</td>\n",
       "    </tr>\n",
       "    <tr>\n",
       "      <th>4</th>\n",
       "      <td>7.441550e+13</td>\n",
       "      <td>1</td>\n",
       "    </tr>\n",
       "  </tbody>\n",
       "</table>\n",
       "</div>"
      ],
      "text/plain": [
       "     account_id  frequency\n",
       "0  6.630750e+12          2\n",
       "1  9.564960e+12          1\n",
       "2  2.564860e+13          2\n",
       "3  6.785860e+13          1\n",
       "4  7.441550e+13          1"
      ]
     },
     "execution_count": 22,
     "metadata": {},
     "output_type": "execute_result"
    }
   ],
   "source": [
    "frequency.head()"
   ]
  },
  {
   "cell_type": "code",
   "execution_count": null,
   "id": "e77850d0",
   "metadata": {},
   "outputs": [],
   "source": []
  },
  {
   "cell_type": "markdown",
   "id": "b5999d04",
   "metadata": {},
   "source": [
    "# time series analysis"
   ]
  },
  {
   "cell_type": "code",
   "execution_count": 90,
   "id": "3f1e0da2",
   "metadata": {},
   "outputs": [],
   "source": []
  },
  {
   "cell_type": "code",
   "execution_count": 91,
   "id": "846513d1",
   "metadata": {},
   "outputs": [],
   "source": [
    "avg_counts = df.groupby(['account_id'])['total_amount'].agg(['sum', 'count'])\n",
    "# data['avg_counts'] = avg_counts['sum']/avg_counts['count']"
   ]
  },
  {
   "cell_type": "code",
   "execution_count": 92,
   "id": "fc8c7157",
   "metadata": {},
   "outputs": [
    {
     "data": {
      "text/html": [
       "<div>\n",
       "<style scoped>\n",
       "    .dataframe tbody tr th:only-of-type {\n",
       "        vertical-align: middle;\n",
       "    }\n",
       "\n",
       "    .dataframe tbody tr th {\n",
       "        vertical-align: top;\n",
       "    }\n",
       "\n",
       "    .dataframe thead th {\n",
       "        text-align: right;\n",
       "    }\n",
       "</style>\n",
       "<table border=\"1\" class=\"dataframe\">\n",
       "  <thead>\n",
       "    <tr style=\"text-align: right;\">\n",
       "      <th></th>\n",
       "      <th>sum</th>\n",
       "      <th>count</th>\n",
       "    </tr>\n",
       "    <tr>\n",
       "      <th>account_id</th>\n",
       "      <th></th>\n",
       "      <th></th>\n",
       "    </tr>\n",
       "  </thead>\n",
       "  <tbody>\n",
       "    <tr>\n",
       "      <th>6.630750e+12</th>\n",
       "      <td>8200.00</td>\n",
       "      <td>2</td>\n",
       "    </tr>\n",
       "    <tr>\n",
       "      <th>9.564960e+12</th>\n",
       "      <td>4400.00</td>\n",
       "      <td>1</td>\n",
       "    </tr>\n",
       "    <tr>\n",
       "      <th>2.564860e+13</th>\n",
       "      <td>7790.00</td>\n",
       "      <td>2</td>\n",
       "    </tr>\n",
       "    <tr>\n",
       "      <th>6.785860e+13</th>\n",
       "      <td>7900.00</td>\n",
       "      <td>1</td>\n",
       "    </tr>\n",
       "    <tr>\n",
       "      <th>7.441550e+13</th>\n",
       "      <td>7400.00</td>\n",
       "      <td>1</td>\n",
       "    </tr>\n",
       "    <tr>\n",
       "      <th>...</th>\n",
       "      <td>...</td>\n",
       "      <td>...</td>\n",
       "    </tr>\n",
       "    <tr>\n",
       "      <th>1.844620e+19</th>\n",
       "      <td>6200.00</td>\n",
       "      <td>1</td>\n",
       "    </tr>\n",
       "    <tr>\n",
       "      <th>1.844640e+19</th>\n",
       "      <td>13200.00</td>\n",
       "      <td>3</td>\n",
       "    </tr>\n",
       "    <tr>\n",
       "      <th>1.844650e+19</th>\n",
       "      <td>4500.00</td>\n",
       "      <td>1</td>\n",
       "    </tr>\n",
       "    <tr>\n",
       "      <th>1.844660e+19</th>\n",
       "      <td>40200.72</td>\n",
       "      <td>5</td>\n",
       "    </tr>\n",
       "    <tr>\n",
       "      <th>1.844670e+19</th>\n",
       "      <td>58905.00</td>\n",
       "      <td>9</td>\n",
       "    </tr>\n",
       "  </tbody>\n",
       "</table>\n",
       "<p>211509 rows × 2 columns</p>\n",
       "</div>"
      ],
      "text/plain": [
       "                   sum  count\n",
       "account_id                   \n",
       "6.630750e+12   8200.00      2\n",
       "9.564960e+12   4400.00      1\n",
       "2.564860e+13   7790.00      2\n",
       "6.785860e+13   7900.00      1\n",
       "7.441550e+13   7400.00      1\n",
       "...                ...    ...\n",
       "1.844620e+19   6200.00      1\n",
       "1.844640e+19  13200.00      3\n",
       "1.844650e+19   4500.00      1\n",
       "1.844660e+19  40200.72      5\n",
       "1.844670e+19  58905.00      9\n",
       "\n",
       "[211509 rows x 2 columns]"
      ]
     },
     "execution_count": 92,
     "metadata": {},
     "output_type": "execute_result"
    }
   ],
   "source": [
    "avg_counts"
   ]
  },
  {
   "cell_type": "code",
   "execution_count": 93,
   "id": "02ce7995",
   "metadata": {},
   "outputs": [],
   "source": [
    "average_amount = df.groupby('account_id')['total_amount'].mean()\n",
    "df['average_amount'] = average_amount"
   ]
  },
  {
   "cell_type": "code",
   "execution_count": 94,
   "id": "31641e64",
   "metadata": {},
   "outputs": [
    {
     "data": {
      "text/html": [
       "<div>\n",
       "<style scoped>\n",
       "    .dataframe tbody tr th:only-of-type {\n",
       "        vertical-align: middle;\n",
       "    }\n",
       "\n",
       "    .dataframe tbody tr th {\n",
       "        vertical-align: top;\n",
       "    }\n",
       "\n",
       "    .dataframe thead th {\n",
       "        text-align: right;\n",
       "    }\n",
       "</style>\n",
       "<table border=\"1\" class=\"dataframe\">\n",
       "  <thead>\n",
       "    <tr style=\"text-align: right;\">\n",
       "      <th></th>\n",
       "      <th>account_id</th>\n",
       "      <th>total_amount</th>\n",
       "    </tr>\n",
       "  </thead>\n",
       "  <tbody>\n",
       "    <tr>\n",
       "      <th>0</th>\n",
       "      <td>6.630750e+12</td>\n",
       "      <td>4100.000</td>\n",
       "    </tr>\n",
       "    <tr>\n",
       "      <th>1</th>\n",
       "      <td>9.564960e+12</td>\n",
       "      <td>4400.000</td>\n",
       "    </tr>\n",
       "    <tr>\n",
       "      <th>2</th>\n",
       "      <td>2.564860e+13</td>\n",
       "      <td>3895.000</td>\n",
       "    </tr>\n",
       "    <tr>\n",
       "      <th>3</th>\n",
       "      <td>6.785860e+13</td>\n",
       "      <td>7900.000</td>\n",
       "    </tr>\n",
       "    <tr>\n",
       "      <th>4</th>\n",
       "      <td>7.441550e+13</td>\n",
       "      <td>7400.000</td>\n",
       "    </tr>\n",
       "    <tr>\n",
       "      <th>...</th>\n",
       "      <td>...</td>\n",
       "      <td>...</td>\n",
       "    </tr>\n",
       "    <tr>\n",
       "      <th>211504</th>\n",
       "      <td>1.844620e+19</td>\n",
       "      <td>6200.000</td>\n",
       "    </tr>\n",
       "    <tr>\n",
       "      <th>211505</th>\n",
       "      <td>1.844640e+19</td>\n",
       "      <td>4400.000</td>\n",
       "    </tr>\n",
       "    <tr>\n",
       "      <th>211506</th>\n",
       "      <td>1.844650e+19</td>\n",
       "      <td>4500.000</td>\n",
       "    </tr>\n",
       "    <tr>\n",
       "      <th>211507</th>\n",
       "      <td>1.844660e+19</td>\n",
       "      <td>8040.144</td>\n",
       "    </tr>\n",
       "    <tr>\n",
       "      <th>211508</th>\n",
       "      <td>1.844670e+19</td>\n",
       "      <td>6545.000</td>\n",
       "    </tr>\n",
       "  </tbody>\n",
       "</table>\n",
       "<p>211509 rows × 2 columns</p>\n",
       "</div>"
      ],
      "text/plain": [
       "          account_id  total_amount\n",
       "0       6.630750e+12      4100.000\n",
       "1       9.564960e+12      4400.000\n",
       "2       2.564860e+13      3895.000\n",
       "3       6.785860e+13      7900.000\n",
       "4       7.441550e+13      7400.000\n",
       "...              ...           ...\n",
       "211504  1.844620e+19      6200.000\n",
       "211505  1.844640e+19      4400.000\n",
       "211506  1.844650e+19      4500.000\n",
       "211507  1.844660e+19      8040.144\n",
       "211508  1.844670e+19      6545.000\n",
       "\n",
       "[211509 rows x 2 columns]"
      ]
     },
     "execution_count": 94,
     "metadata": {},
     "output_type": "execute_result"
    }
   ],
   "source": [
    "average_amount = df.groupby('account_id')['total_amount'].mean().reset_index()\n",
    "average_amount"
   ]
  },
  {
   "cell_type": "code",
   "execution_count": 95,
   "id": "e11f92de",
   "metadata": {},
   "outputs": [],
   "source": [
    "df['avg'] = average_amount['total_amount']"
   ]
  },
  {
   "cell_type": "code",
   "execution_count": 96,
   "id": "2080be39",
   "metadata": {},
   "outputs": [],
   "source": [
    "data1 = df.merge(average_amount,how='left',on='account_id')"
   ]
  },
  {
   "cell_type": "code",
   "execution_count": 97,
   "id": "8214ca4d",
   "metadata": {},
   "outputs": [],
   "source": [
    "del data1['average_amount']\n",
    "del data1['avg']"
   ]
  },
  {
   "cell_type": "code",
   "execution_count": 98,
   "id": "16fb485d",
   "metadata": {},
   "outputs": [
    {
     "data": {
      "text/html": [
       "<div>\n",
       "<style scoped>\n",
       "    .dataframe tbody tr th:only-of-type {\n",
       "        vertical-align: middle;\n",
       "    }\n",
       "\n",
       "    .dataframe tbody tr th {\n",
       "        vertical-align: top;\n",
       "    }\n",
       "\n",
       "    .dataframe thead th {\n",
       "        text-align: right;\n",
       "    }\n",
       "</style>\n",
       "<table border=\"1\" class=\"dataframe\">\n",
       "  <thead>\n",
       "    <tr style=\"text-align: right;\">\n",
       "      <th></th>\n",
       "      <th>Unnamed: 0</th>\n",
       "      <th>account_id</th>\n",
       "      <th>last_modified_date</th>\n",
       "      <th>travelled_flight_name</th>\n",
       "      <th>total_amount_x</th>\n",
       "      <th>total_amount_y</th>\n",
       "    </tr>\n",
       "  </thead>\n",
       "  <tbody>\n",
       "    <tr>\n",
       "      <th>0</th>\n",
       "      <td>0</td>\n",
       "      <td>1.559470e+19</td>\n",
       "      <td>10/11/2023</td>\n",
       "      <td>BUDDHA AIR</td>\n",
       "      <td>6400.0</td>\n",
       "      <td>7822.395349</td>\n",
       "    </tr>\n",
       "    <tr>\n",
       "      <th>1</th>\n",
       "      <td>1</td>\n",
       "      <td>2.693080e+18</td>\n",
       "      <td>10/11/2023</td>\n",
       "      <td>BUDDHA AIR</td>\n",
       "      <td>5200.0</td>\n",
       "      <td>6545.314545</td>\n",
       "    </tr>\n",
       "    <tr>\n",
       "      <th>2</th>\n",
       "      <td>2</td>\n",
       "      <td>7.494540e+18</td>\n",
       "      <td>10/11/2023</td>\n",
       "      <td>SHREE AIRLINES</td>\n",
       "      <td>8800.0</td>\n",
       "      <td>13966.666667</td>\n",
       "    </tr>\n",
       "    <tr>\n",
       "      <th>3</th>\n",
       "      <td>3</td>\n",
       "      <td>1.493320e+19</td>\n",
       "      <td>10/11/2023</td>\n",
       "      <td>BUDDHA AIR</td>\n",
       "      <td>9001.0</td>\n",
       "      <td>7017.888889</td>\n",
       "    </tr>\n",
       "    <tr>\n",
       "      <th>4</th>\n",
       "      <td>4</td>\n",
       "      <td>1.682070e+19</td>\n",
       "      <td>10/11/2023</td>\n",
       "      <td>YETI AIRLINES</td>\n",
       "      <td>23200.0</td>\n",
       "      <td>8610.724118</td>\n",
       "    </tr>\n",
       "  </tbody>\n",
       "</table>\n",
       "</div>"
      ],
      "text/plain": [
       "   Unnamed: 0    account_id last_modified_date travelled_flight_name  \\\n",
       "0           0  1.559470e+19         10/11/2023            BUDDHA AIR   \n",
       "1           1  2.693080e+18         10/11/2023            BUDDHA AIR   \n",
       "2           2  7.494540e+18         10/11/2023        SHREE AIRLINES   \n",
       "3           3  1.493320e+19         10/11/2023            BUDDHA AIR   \n",
       "4           4  1.682070e+19         10/11/2023         YETI AIRLINES   \n",
       "\n",
       "   total_amount_x  total_amount_y  \n",
       "0          6400.0     7822.395349  \n",
       "1          5200.0     6545.314545  \n",
       "2          8800.0    13966.666667  \n",
       "3          9001.0     7017.888889  \n",
       "4         23200.0     8610.724118  "
      ]
     },
     "execution_count": 98,
     "metadata": {},
     "output_type": "execute_result"
    }
   ],
   "source": [
    "data1.head()"
   ]
  },
  {
   "cell_type": "code",
   "execution_count": 99,
   "id": "bff7449c",
   "metadata": {},
   "outputs": [
    {
     "data": {
      "text/plain": [
       "Unnamed: 0                     0\n",
       "account_id                     0\n",
       "last_modified_date             0\n",
       "travelled_flight_name          0\n",
       "total_amount                   0\n",
       "average_amount           1048575\n",
       "avg                       837066\n",
       "dtype: int64"
      ]
     },
     "execution_count": 99,
     "metadata": {},
     "output_type": "execute_result"
    }
   ],
   "source": [
    "df.isna().sum()"
   ]
  },
  {
   "cell_type": "code",
   "execution_count": 100,
   "id": "2f7773f7",
   "metadata": {},
   "outputs": [
    {
     "data": {
      "text/html": [
       "<div>\n",
       "<style scoped>\n",
       "    .dataframe tbody tr th:only-of-type {\n",
       "        vertical-align: middle;\n",
       "    }\n",
       "\n",
       "    .dataframe tbody tr th {\n",
       "        vertical-align: top;\n",
       "    }\n",
       "\n",
       "    .dataframe thead th {\n",
       "        text-align: right;\n",
       "    }\n",
       "</style>\n",
       "<table border=\"1\" class=\"dataframe\">\n",
       "  <thead>\n",
       "    <tr style=\"text-align: right;\">\n",
       "      <th></th>\n",
       "      <th>Unnamed: 0</th>\n",
       "      <th>account_id</th>\n",
       "      <th>last_modified_date</th>\n",
       "      <th>travelled_flight_name</th>\n",
       "      <th>total_amount</th>\n",
       "      <th>average_amount</th>\n",
       "      <th>avg</th>\n",
       "    </tr>\n",
       "  </thead>\n",
       "  <tbody>\n",
       "    <tr>\n",
       "      <th>0</th>\n",
       "      <td>0</td>\n",
       "      <td>1.559470e+19</td>\n",
       "      <td>10/11/2023</td>\n",
       "      <td>BUDDHA AIR</td>\n",
       "      <td>6400.0</td>\n",
       "      <td>NaN</td>\n",
       "      <td>4100.0</td>\n",
       "    </tr>\n",
       "    <tr>\n",
       "      <th>1</th>\n",
       "      <td>1</td>\n",
       "      <td>2.693080e+18</td>\n",
       "      <td>10/11/2023</td>\n",
       "      <td>BUDDHA AIR</td>\n",
       "      <td>5200.0</td>\n",
       "      <td>NaN</td>\n",
       "      <td>4400.0</td>\n",
       "    </tr>\n",
       "    <tr>\n",
       "      <th>2</th>\n",
       "      <td>2</td>\n",
       "      <td>7.494540e+18</td>\n",
       "      <td>10/11/2023</td>\n",
       "      <td>SHREE AIRLINES</td>\n",
       "      <td>8800.0</td>\n",
       "      <td>NaN</td>\n",
       "      <td>3895.0</td>\n",
       "    </tr>\n",
       "    <tr>\n",
       "      <th>3</th>\n",
       "      <td>3</td>\n",
       "      <td>1.493320e+19</td>\n",
       "      <td>10/11/2023</td>\n",
       "      <td>BUDDHA AIR</td>\n",
       "      <td>9001.0</td>\n",
       "      <td>NaN</td>\n",
       "      <td>7900.0</td>\n",
       "    </tr>\n",
       "    <tr>\n",
       "      <th>4</th>\n",
       "      <td>4</td>\n",
       "      <td>1.682070e+19</td>\n",
       "      <td>10/11/2023</td>\n",
       "      <td>YETI AIRLINES</td>\n",
       "      <td>23200.0</td>\n",
       "      <td>NaN</td>\n",
       "      <td>7400.0</td>\n",
       "    </tr>\n",
       "  </tbody>\n",
       "</table>\n",
       "</div>"
      ],
      "text/plain": [
       "   Unnamed: 0    account_id last_modified_date travelled_flight_name  \\\n",
       "0           0  1.559470e+19         10/11/2023            BUDDHA AIR   \n",
       "1           1  2.693080e+18         10/11/2023            BUDDHA AIR   \n",
       "2           2  7.494540e+18         10/11/2023        SHREE AIRLINES   \n",
       "3           3  1.493320e+19         10/11/2023            BUDDHA AIR   \n",
       "4           4  1.682070e+19         10/11/2023         YETI AIRLINES   \n",
       "\n",
       "   total_amount  average_amount     avg  \n",
       "0        6400.0             NaN  4100.0  \n",
       "1        5200.0             NaN  4400.0  \n",
       "2        8800.0             NaN  3895.0  \n",
       "3        9001.0             NaN  7900.0  \n",
       "4       23200.0             NaN  7400.0  "
      ]
     },
     "execution_count": 100,
     "metadata": {},
     "output_type": "execute_result"
    }
   ],
   "source": [
    "df.head()"
   ]
  },
  {
   "cell_type": "code",
   "execution_count": 101,
   "id": "c5ba5a76",
   "metadata": {},
   "outputs": [
    {
     "data": {
      "text/plain": [
       "Unnamed: 0               1048575\n",
       "account_id               1048575\n",
       "last_modified_date       1048575\n",
       "travelled_flight_name    1048575\n",
       "total_amount             1048575\n",
       "average_amount                 0\n",
       "avg                       211509\n",
       "dtype: int64"
      ]
     },
     "execution_count": 101,
     "metadata": {},
     "output_type": "execute_result"
    }
   ],
   "source": [
    "df.count()"
   ]
  },
  {
   "cell_type": "code",
   "execution_count": 102,
   "id": "dcb15a63",
   "metadata": {},
   "outputs": [
    {
     "data": {
      "text/plain": [
       "Unnamed: 0               1048575\n",
       "account_id                211509\n",
       "last_modified_date           479\n",
       "travelled_flight_name          9\n",
       "total_amount                4690\n",
       "average_amount                 0\n",
       "avg                        61647\n",
       "dtype: int64"
      ]
     },
     "execution_count": 102,
     "metadata": {},
     "output_type": "execute_result"
    }
   ],
   "source": [
    "df.nunique()"
   ]
  },
  {
   "cell_type": "code",
   "execution_count": 28,
   "id": "618df64a",
   "metadata": {},
   "outputs": [],
   "source": [
    "import statsmodels.graphics.tsaplots as sgt \n",
    "import statsmodels.tsa.stattools as sts \n",
    "from statsmodels.tsa.seasonal import seasonal_decompose"
   ]
  },
  {
   "cell_type": "code",
   "execution_count": 29,
   "id": "4b2df29a",
   "metadata": {},
   "outputs": [
    {
     "data": {
      "text/plain": [
       "<AxesSubplot: >"
      ]
     },
     "execution_count": 29,
     "metadata": {},
     "output_type": "execute_result"
    },
    {
     "data": {
      "image/png": "[encoded data removed]",
      "text/plain": [
       "<Figure size 640x480 with 1 Axes>"
      ]
     },
     "metadata": {},
     "output_type": "display_data"
    }
   ],
   "source": [
    "df.total_amount.plot()"
   ]
  },
  {
   "cell_type": "code",
   "execution_count": 30,
   "id": "60568382",
   "metadata": {},
   "outputs": [],
   "source": [
    "time_series.set_index('date', inplace=True)"
   ]
  },
  {
   "cell_type": "code",
   "execution_count": 31,
   "id": "2a7a7523",
   "metadata": {},
   "outputs": [],
   "source": [
    "# memory allocation error \n",
    "# indicates that there is insufficient memory available to allocate an array with the specified shape and data type (float64).\n",
    "\n",
    "# sts.adfuller(df.total_amount)"
   ]
  },
  {
   "cell_type": "code",
   "execution_count": 32,
   "id": "35db1a6f",
   "metadata": {},
   "outputs": [
    {
     "name": "stdout",
     "output_type": "stream",
     "text": [
      "Chunk 1: ADF Statistic: -24.731858160301595, p-value: 0.0\n",
      "Chunk 2: ADF Statistic: -26.02239530641757, p-value: 0.0\n",
      "Chunk 3: ADF Statistic: -23.838501232407904, p-value: 0.0\n",
      "Chunk 4: ADF Statistic: -25.340460122144624, p-value: 0.0\n",
      "Chunk 5: ADF Statistic: -25.16086950150852, p-value: 0.0\n",
      "Chunk 6: ADF Statistic: -26.240415883091462, p-value: 0.0\n",
      "Chunk 7: ADF Statistic: -28.687774777525867, p-value: 0.0\n",
      "Chunk 8: ADF Statistic: -26.42318180596542, p-value: 0.0\n",
      "Chunk 9: ADF Statistic: -27.163477750400723, p-value: 0.0\n",
      "Chunk 10: ADF Statistic: -27.60382730382255, p-value: 0.0\n",
      "Chunk 11: ADF Statistic: -21.32654904281314, p-value: 0.0\n"
     ]
    }
   ],
   "source": [
    "# for tackling the insufficient memory problem\n",
    "\n",
    "chunk_size = 100000  # Adjust this based on your available memory\n",
    "num_chunks = len(df) // chunk_size + 1\n",
    "\n",
    "for chunk_idx in range(num_chunks):\n",
    "    chunk = time_series.iloc[chunk_idx * chunk_size : (chunk_idx + 1) * chunk_size]\n",
    "    adf_result = sts.adfuller(chunk['total_amount'])\n",
    "    print(f\"Chunk {chunk_idx+1}: ADF Statistic: {adf_result[0]}, p-value: {adf_result[1]}\")"
   ]
  },
  {
   "cell_type": "code",
   "execution_count": 33,
   "id": "693e70bd",
   "metadata": {},
   "outputs": [
    {
     "data": {
      "text/plain": [
       "(-21.32654904281314,\n",
       " 0.0,\n",
       " 57,\n",
       " 48517,\n",
       " {'1%': -3.430484790815911,\n",
       "  '5%': -2.861599574732267,\n",
       "  '10%': -2.5668017096666578},\n",
       " 948942.2733072997)"
      ]
     },
     "execution_count": 33,
     "metadata": {},
     "output_type": "execute_result"
    }
   ],
   "source": [
    "adf_result"
   ]
  },
  {
   "cell_type": "code",
   "execution_count": 36,
   "id": "2bdea500",
   "metadata": {},
   "outputs": [
    {
     "data": {
      "text/plain": [
       "DatetimeIndex(['2023-10-11', '2023-10-11', '2023-10-11', '2023-10-11',\n",
       "               '2023-10-11', '2023-10-11', '2023-10-11', '2023-10-11',\n",
       "               '2023-10-11', '2023-10-11',\n",
       "               ...\n",
       "               '2023-08-07', '2023-08-07', '2023-08-07', '2023-08-07',\n",
       "               '2023-08-07', '2023-08-07', '2023-08-07', '2023-08-07',\n",
       "               '2023-08-07', '2023-08-07'],\n",
       "              dtype='datetime64[ns]', name='date', length=1048575, freq=None)"
      ]
     },
     "execution_count": 36,
     "metadata": {},
     "output_type": "execute_result"
    }
   ],
   "source": [
    "time_series.index"
   ]
  },
  {
   "cell_type": "code",
   "execution_count": null,
   "id": "7c2d3153",
   "metadata": {},
   "outputs": [],
   "source": []
  },
  {
   "cell_type": "code",
   "execution_count": 44,
   "id": "82b45135",
   "metadata": {},
   "outputs": [
    {
     "data": {
      "image/png": "[encoded data removed]",
      "text/plain": [
       "<Figure size 640x480 with 4 Axes>"
      ]
     },
     "execution_count": 44,
     "metadata": {},
     "output_type": "execute_result"
    },
    {
     "data": {
      "image/png": "[encoded data removed]",
      "text/plain": [
       "<Figure size 640x480 with 4 Axes>"
      ]
     },
     "metadata": {},
     "output_type": "display_data"
    }
   ],
   "source": [
    "# seasonality\n",
    "# a period has to be defined or DatetimeIndex with a freq not set to None\n",
    "s_dec_additive = seasonal_decompose(time_series.total_amount, model='additive', period=12)\n",
    "s_dec_additive.plot()"
   ]
  },
  {
   "cell_type": "code",
   "execution_count": null,
   "id": "060a8cd7",
   "metadata": {},
   "outputs": [],
   "source": []
  },
  {
   "cell_type": "code",
   "execution_count": 45,
   "id": "43e10b4f",
   "metadata": {},
   "outputs": [
    {
     "data": {
      "text/plain": [
       "Text(0.5, 1.0, 'ACF')"
      ]
     },
     "execution_count": 45,
     "metadata": {},
     "output_type": "execute_result"
    },
    {
     "data": {
      "image/png": "[encoded data removed]",
      "text/plain": [
       "<Figure size 640x480 with 1 Axes>"
      ]
     },
     "metadata": {},
     "output_type": "display_data"
    }
   ],
   "source": [
    "sgt.plot_acf(time_series.total_amount, lags=40, zero=False)\n",
    "plt.title('ACF', size=24)"
   ]
  },
  {
   "cell_type": "markdown",
   "id": "489ffce9",
   "metadata": {},
   "source": [
    "## ARIMA model"
   ]
  },
  {
   "cell_type": "code",
   "execution_count": 47,
   "id": "a9c140ff",
   "metadata": {},
   "outputs": [],
   "source": [
    "from statsmodels.tsa.arima.model import ARIMA\n",
    "from scipy.stats.distributions import chi2"
   ]
  },
  {
   "cell_type": "code",
   "execution_count": 48,
   "id": "47bbfc6b",
   "metadata": {},
   "outputs": [
    {
     "name": "stderr",
     "output_type": "stream",
     "text": [
      "B:\\environments\\pyfinance\\lib\\site-packages\\statsmodels\\tsa\\base\\tsa_model.py:471: ValueWarning: A date index has been provided, but it has no associated frequency information and so will be ignored when e.g. forecasting.\n",
      "  self._init_dates(dates, freq)\n",
      "B:\\environments\\pyfinance\\lib\\site-packages\\statsmodels\\tsa\\base\\tsa_model.py:471: ValueWarning: A date index has been provided, but it is not monotonic and so will be ignored when e.g. forecasting.\n",
      "  self._init_dates(dates, freq)\n",
      "B:\\environments\\pyfinance\\lib\\site-packages\\statsmodels\\tsa\\base\\tsa_model.py:471: ValueWarning: A date index has been provided, but it has no associated frequency information and so will be ignored when e.g. forecasting.\n",
      "  self._init_dates(dates, freq)\n",
      "B:\\environments\\pyfinance\\lib\\site-packages\\statsmodels\\tsa\\base\\tsa_model.py:471: ValueWarning: A date index has been provided, but it is not monotonic and so will be ignored when e.g. forecasting.\n",
      "  self._init_dates(dates, freq)\n",
      "B:\\environments\\pyfinance\\lib\\site-packages\\statsmodels\\tsa\\base\\tsa_model.py:471: ValueWarning: A date index has been provided, but it has no associated frequency information and so will be ignored when e.g. forecasting.\n",
      "  self._init_dates(dates, freq)\n",
      "B:\\environments\\pyfinance\\lib\\site-packages\\statsmodels\\tsa\\base\\tsa_model.py:471: ValueWarning: A date index has been provided, but it is not monotonic and so will be ignored when e.g. forecasting.\n",
      "  self._init_dates(dates, freq)\n"
     ]
    },
    {
     "data": {
      "text/html": [
       "<table class=\"simpletable\">\n",
       "<caption>SARIMAX Results</caption>\n",
       "<tr>\n",
       "  <th>Dep. Variable:</th>     <td>total_amount</td>   <th>  No. Observations:  </th>    <td>1048575</td>   \n",
       "</tr>\n",
       "<tr>\n",
       "  <th>Model:</th>            <td>ARIMA(0, 1, 0)</td>  <th>  Log Likelihood     </th> <td>-10624294.945</td>\n",
       "</tr>\n",
       "<tr>\n",
       "  <th>Date:</th>            <td>Thu, 09 May 2024</td> <th>  AIC                </th> <td>21248591.891</td> \n",
       "</tr>\n",
       "<tr>\n",
       "  <th>Time:</th>                <td>10:03:35</td>     <th>  BIC                </th> <td>21248603.754</td> \n",
       "</tr>\n",
       "<tr>\n",
       "  <th>Sample:</th>                  <td>0</td>        <th>  HQIC               </th> <td>21248595.149</td> \n",
       "</tr>\n",
       "<tr>\n",
       "  <th></th>                    <td> - 1048575</td>    <th>                     </th>       <td> </td>      \n",
       "</tr>\n",
       "<tr>\n",
       "  <th>Covariance Type:</th>        <td>opg</td>       <th>                     </th>       <td> </td>      \n",
       "</tr>\n",
       "</table>\n",
       "<table class=\"simpletable\">\n",
       "<tr>\n",
       "     <td></td>       <th>coef</th>     <th>std err</th>      <th>z</th>      <th>P>|z|</th>  <th>[0.025</th>    <th>0.975]</th>  \n",
       "</tr>\n",
       "<tr>\n",
       "  <th>sigma2</th> <td>   3.7e+07</td> <td> 2.23e+04</td> <td> 1656.122</td> <td> 0.000</td> <td>  3.7e+07</td> <td>  3.7e+07</td>\n",
       "</tr>\n",
       "</table>\n",
       "<table class=\"simpletable\">\n",
       "<tr>\n",
       "  <th>Ljung-Box (L1) (Q):</th>     <td>261392.44</td> <th>  Jarque-Bera (JB):  </th> <td>3129018.87</td>\n",
       "</tr>\n",
       "<tr>\n",
       "  <th>Prob(Q):</th>                  <td>0.00</td>    <th>  Prob(JB):          </th>    <td>0.00</td>   \n",
       "</tr>\n",
       "<tr>\n",
       "  <th>Heteroskedasticity (H):</th>   <td>0.90</td>    <th>  Skew:              </th>    <td>-0.00</td>  \n",
       "</tr>\n",
       "<tr>\n",
       "  <th>Prob(H) (two-sided):</th>      <td>0.00</td>    <th>  Kurtosis:          </th>    <td>11.46</td>  \n",
       "</tr>\n",
       "</table><br/><br/>Warnings:<br/>[1] Covariance matrix calculated using the outer product of gradients (complex-step)."
      ],
      "text/plain": [
       "<class 'statsmodels.iolib.summary.Summary'>\n",
       "\"\"\"\n",
       "                               SARIMAX Results                                \n",
       "==============================================================================\n",
       "Dep. Variable:           total_amount   No. Observations:              1048575\n",
       "Model:                 ARIMA(0, 1, 0)   Log Likelihood           -10624294.945\n",
       "Date:                Thu, 09 May 2024   AIC                       21248591.891\n",
       "Time:                        10:03:35   BIC                       21248603.754\n",
       "Sample:                             0   HQIC                      21248595.149\n",
       "                            - 1048575                                         \n",
       "Covariance Type:                  opg                                         \n",
       "==============================================================================\n",
       "                 coef    std err          z      P>|z|      [0.025      0.975]\n",
       "------------------------------------------------------------------------------\n",
       "sigma2        3.7e+07   2.23e+04   1656.122      0.000     3.7e+07     3.7e+07\n",
       "===================================================================================\n",
       "Ljung-Box (L1) (Q):              261392.44   Jarque-Bera (JB):           3129018.87\n",
       "Prob(Q):                              0.00   Prob(JB):                         0.00\n",
       "Heteroskedasticity (H):               0.90   Skew:                            -0.00\n",
       "Prob(H) (two-sided):                  0.00   Kurtosis:                        11.46\n",
       "===================================================================================\n",
       "\n",
       "Warnings:\n",
       "[1] Covariance matrix calculated using the outer product of gradients (complex-step).\n",
       "\"\"\""
      ]
     },
     "execution_count": 48,
     "metadata": {},
     "output_type": "execute_result"
    }
   ],
   "source": [
    "# moving average model\n",
    "\n",
    "model_ar = ARIMA(time_series['total_amount'], order=(0,1,0))\n",
    "results_ar = model_ar.fit()\n",
    "results_ar.summary()"
   ]
  },
  {
   "cell_type": "code",
   "execution_count": 49,
   "id": "5810b02d",
   "metadata": {},
   "outputs": [
    {
     "name": "stderr",
     "output_type": "stream",
     "text": [
      "B:\\environments\\pyfinance\\lib\\site-packages\\statsmodels\\tsa\\base\\tsa_model.py:471: ValueWarning: A date index has been provided, but it has no associated frequency information and so will be ignored when e.g. forecasting.\n",
      "  self._init_dates(dates, freq)\n",
      "B:\\environments\\pyfinance\\lib\\site-packages\\statsmodels\\tsa\\base\\tsa_model.py:471: ValueWarning: A date index has been provided, but it is not monotonic and so will be ignored when e.g. forecasting.\n",
      "  self._init_dates(dates, freq)\n",
      "B:\\environments\\pyfinance\\lib\\site-packages\\statsmodels\\tsa\\base\\tsa_model.py:471: ValueWarning: A date index has been provided, but it has no associated frequency information and so will be ignored when e.g. forecasting.\n",
      "  self._init_dates(dates, freq)\n",
      "B:\\environments\\pyfinance\\lib\\site-packages\\statsmodels\\tsa\\base\\tsa_model.py:471: ValueWarning: A date index has been provided, but it is not monotonic and so will be ignored when e.g. forecasting.\n",
      "  self._init_dates(dates, freq)\n",
      "B:\\environments\\pyfinance\\lib\\site-packages\\statsmodels\\tsa\\base\\tsa_model.py:471: ValueWarning: A date index has been provided, but it has no associated frequency information and so will be ignored when e.g. forecasting.\n",
      "  self._init_dates(dates, freq)\n",
      "B:\\environments\\pyfinance\\lib\\site-packages\\statsmodels\\tsa\\base\\tsa_model.py:471: ValueWarning: A date index has been provided, but it is not monotonic and so will be ignored when e.g. forecasting.\n",
      "  self._init_dates(dates, freq)\n"
     ]
    },
    {
     "data": {
      "text/html": [
       "<table class=\"simpletable\">\n",
       "<caption>SARIMAX Results</caption>\n",
       "<tr>\n",
       "  <th>Dep. Variable:</th>     <td>total_amount</td>   <th>  No. Observations:  </th>    <td>1048575</td>   \n",
       "</tr>\n",
       "<tr>\n",
       "  <th>Model:</th>            <td>ARIMA(0, 1, 0)</td>  <th>  Log Likelihood     </th> <td>-10624294.945</td>\n",
       "</tr>\n",
       "<tr>\n",
       "  <th>Date:</th>            <td>Thu, 09 May 2024</td> <th>  AIC                </th> <td>21248591.891</td> \n",
       "</tr>\n",
       "<tr>\n",
       "  <th>Time:</th>                <td>10:11:34</td>     <th>  BIC                </th> <td>21248603.754</td> \n",
       "</tr>\n",
       "<tr>\n",
       "  <th>Sample:</th>                  <td>0</td>        <th>  HQIC               </th> <td>21248595.149</td> \n",
       "</tr>\n",
       "<tr>\n",
       "  <th></th>                    <td> - 1048575</td>    <th>                     </th>       <td> </td>      \n",
       "</tr>\n",
       "<tr>\n",
       "  <th>Covariance Type:</th>        <td>opg</td>       <th>                     </th>       <td> </td>      \n",
       "</tr>\n",
       "</table>\n",
       "<table class=\"simpletable\">\n",
       "<tr>\n",
       "     <td></td>       <th>coef</th>     <th>std err</th>      <th>z</th>      <th>P>|z|</th>  <th>[0.025</th>    <th>0.975]</th>  \n",
       "</tr>\n",
       "<tr>\n",
       "  <th>sigma2</th> <td>   3.7e+07</td> <td> 2.23e+04</td> <td> 1656.122</td> <td> 0.000</td> <td>  3.7e+07</td> <td>  3.7e+07</td>\n",
       "</tr>\n",
       "</table>\n",
       "<table class=\"simpletable\">\n",
       "<tr>\n",
       "  <th>Ljung-Box (L1) (Q):</th>     <td>261392.44</td> <th>  Jarque-Bera (JB):  </th> <td>3129018.87</td>\n",
       "</tr>\n",
       "<tr>\n",
       "  <th>Prob(Q):</th>                  <td>0.00</td>    <th>  Prob(JB):          </th>    <td>0.00</td>   \n",
       "</tr>\n",
       "<tr>\n",
       "  <th>Heteroskedasticity (H):</th>   <td>0.90</td>    <th>  Skew:              </th>    <td>-0.00</td>  \n",
       "</tr>\n",
       "<tr>\n",
       "  <th>Prob(H) (two-sided):</th>      <td>0.00</td>    <th>  Kurtosis:          </th>    <td>11.46</td>  \n",
       "</tr>\n",
       "</table><br/><br/>Warnings:<br/>[1] Covariance matrix calculated using the outer product of gradients (complex-step)."
      ],
      "text/plain": [
       "<class 'statsmodels.iolib.summary.Summary'>\n",
       "\"\"\"\n",
       "                               SARIMAX Results                                \n",
       "==============================================================================\n",
       "Dep. Variable:           total_amount   No. Observations:              1048575\n",
       "Model:                 ARIMA(0, 1, 0)   Log Likelihood           -10624294.945\n",
       "Date:                Thu, 09 May 2024   AIC                       21248591.891\n",
       "Time:                        10:11:34   BIC                       21248603.754\n",
       "Sample:                             0   HQIC                      21248595.149\n",
       "                            - 1048575                                         \n",
       "Covariance Type:                  opg                                         \n",
       "==============================================================================\n",
       "                 coef    std err          z      P>|z|      [0.025      0.975]\n",
       "------------------------------------------------------------------------------\n",
       "sigma2        3.7e+07   2.23e+04   1656.122      0.000     3.7e+07     3.7e+07\n",
       "===================================================================================\n",
       "Ljung-Box (L1) (Q):              261392.44   Jarque-Bera (JB):           3129018.87\n",
       "Prob(Q):                              0.00   Prob(JB):                         0.00\n",
       "Heteroskedasticity (H):               0.90   Skew:                            -0.00\n",
       "Prob(H) (two-sided):                  0.00   Kurtosis:                        11.46\n",
       "===================================================================================\n",
       "\n",
       "Warnings:\n",
       "[1] Covariance matrix calculated using the outer product of gradients (complex-step).\n",
       "\"\"\""
      ]
     },
     "execution_count": 49,
     "metadata": {},
     "output_type": "execute_result"
    }
   ],
   "source": [
    "model_ar2 = ARIMA(time_series['total_amount'], order=(0,1,0))\n",
    "results_ar2 = model_ar2.fit()\n",
    "results_ar2.summary()"
   ]
  },
  {
   "cell_type": "markdown",
   "id": "dec949d2",
   "metadata": {},
   "source": [
    "## LLR test"
   ]
  },
  {
   "cell_type": "code",
   "execution_count": 50,
   "id": "2a98869a",
   "metadata": {},
   "outputs": [],
   "source": [
    "def llr_test(mod1, mod2, DF=1):\n",
    "    l1 = mod1.fit().llf\n",
    "    l2 = mod2.fit().llf\n",
    "    LR = (2*(l2-l1))\n",
    "    p = chi2.sf(LR, DF).round(3)\n",
    "    return p"
   ]
  },
  {
   "cell_type": "code",
   "execution_count": 52,
   "id": "e5c56dac",
   "metadata": {},
   "outputs": [
    {
     "data": {
      "text/plain": [
       "1.0"
      ]
     },
     "execution_count": 52,
     "metadata": {},
     "output_type": "execute_result"
    }
   ],
   "source": [
    "llr_test(model_ar, model_ar2)"
   ]
  },
  {
   "cell_type": "code",
   "execution_count": null,
   "id": "1a2dde0b",
   "metadata": {},
   "outputs": [],
   "source": []
  }
 ],
 "metadata": {
  "kernelspec": {
   "display_name": "Python 3 (ipykernel)",
   "language": "python",
   "name": "python3"
  },
  "language_info": {
   "codemirror_mode": {
    "name": "ipython",
    "version": 3
   },
   "file_extension": ".py",
   "mimetype": "text/x-python",
   "name": "python",
   "nbconvert_exporter": "python",
   "pygments_lexer": "ipython3",
   "version": "3.10.6"
  }
 },
 "nbformat": 4,
 "nbformat_minor": 5
}
